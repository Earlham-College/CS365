{
 "cells": [
  {
   "cell_type": "markdown",
   "id": "bdcb7425",
   "metadata": {},
   "source": [
    "<div id=\"header\"><p style=\"color:#3364ff; text-align:center; font-weight:bold; font-family:verdana; font-size:25px;\">AI and ML: Neural Networks. Python Implementation</p></div>\n",
    "\n",
    "[licenseBDG]: https://img.shields.io/badge/License-CC-orange?style=plastic\n",
    "[license]: https://creativecommons.org/licenses/by-nc-sa/3.0/deed.en\n",
    "\n",
    "[mywebsiteBDG]:https://img.shields.io/badge/website-jaorduz.github.io-0abeeb?style=plastic\n",
    "[mywebsite]: https://jaorduz.github.io/\n",
    "\n",
    "[mygithubBDG-jaorduz]: https://img.shields.io/badge/jaorduz-repos-blue?logo=github&label=jaorduz&style=plastic\n",
    "[mygithub-jaorduz]: https://github.com/jaorduz/\n",
    "\n",
    "[mygithubBDG-jaorduc]: https://img.shields.io/badge/jaorduc-repos-blue?logo=github&label=jaorduc&style=plastic \n",
    "[mygithub-jaorduc]: https://github.com/jaorduc/\n",
    "\n",
    "[myXprofileBDG]: https://img.shields.io/static/v1?label=Follow&message=jaorduc&color=2ea44f&style=plastic&logo=X&logoColor=black\n",
    "[myXprofile]:https://twitter.com/jaorduc\n",
    "\n",
    "\n",
    "[![website - jaorduz.github.io][mywebsiteBDG]][mywebsite]\n",
    "[![Github][mygithubBDG-jaorduz]][mygithub-jaorduz]\n",
    "[![Github][mygithubBDG-jaorduc]][mygithub-jaorduc]\n",
    "[![Follow @jaorduc][myXprofileBDG]][myXprofile]\n",
    "[![CC License][licenseBDG]][license]\n",
    "\n",
    "<hr>\n",
    "\n",
    "<p style=\"text-align:right; font-family:verdana;\"><a href=\"https://jaorduz.github.io/\" style=\"color:#3364ff; text-decoration:none;\";name = \"website\">@Javier Orduz</a></p>    \n",
    "\n",
    "<hr>\n",
    "\n",
    "\n",
    "<h2>Objectives</h2>\n",
    "\n",
    "*   Implement a first neural network.\n"
   ]
  },
  {
   "cell_type": "markdown",
   "id": "8591bfd7",
   "metadata": {},
   "source": [
    "<h2>Table of contents</h2>\n",
    "\n",
    "<div class=\"alert alert-block alert-info\" style=\"margin-top: 20px\">\n",
    "    <ol>\n",
    "        <li><a href=\"https://#whatisdectre\">What is a Neural Network?</a></li>\n",
    "        <!-- <ol>\n",
    "            <li><a href=\"https://#about_dataset\">About the dataset</a></li>\n",
    "            <li><a href=\"https://#entropy\">Entropy</a></li>    \n",
    "        </ol>\n",
    "        <li><a href=\"https://#tobuildatree\">To build a Tree</a></li>        \n",
    "        <li><a href=\"https://#downloading_data\">Downloading the Data</a></li>\n",
    "        <li><a href=\"https://#pre-processing\">Pre-processing</a></li>\n",
    "        <li><a href=\"https://#modeling\">Modeling</a></li>\n",
    "        <li><a href=\"https://#setting_up_tree\">Setting up Tree</a></li>\n",
    "        <li><a href=\"https://#prediction\">Prediction</a></li>\n",
    "        <li><a href=\"https://#evaluation\">Evaluation</a></li>\n",
    "        <li><a href=\"https://#visualization\">Visualization</a></li> -->\n",
    "    </ol>\n",
    "</div>\n",
    "<br>\n",
    "<hr>\n"
   ]
  },
  {
   "cell_type": "markdown",
   "id": "4d37d928",
   "metadata": {},
   "source": [
    "\n",
    "<header><h2>Importing libraries, packages and modules</h2></header>\n",
    "\n",
    "\n",
    "Import the Following Libraries:\n",
    "\n",
    "<ul>\n",
    "    <li> <b>numpy (as np)</b> </li>\n",
    "    <li> <b>matplotlib.pyplot</b> </li>\n",
    "</ul>\n"
   ]
  },
  {
   "cell_type": "code",
   "execution_count": 1,
   "id": "f94b988f-9d7a-4af9-9f0c-fa87f50ce85c",
   "metadata": {},
   "outputs": [],
   "source": [
    "import numpy as np \n",
    "import matplotlib.pyplot as plt"
   ]
  },
  {
   "cell_type": "markdown",
   "id": "ed4ddaa9",
   "metadata": {},
   "source": [
    "<hr>\n",
    "<div id=\"about_dataset\">\n",
    "    <h2>About the dataset: inputs, outputs and other important concepts</h2>\n",
    "    \n",
    "    The data set will be a vector, which are the inputs\n",
    "```python\n",
    "Xvector=[0.8, -0.3, 1, -1]\n",
    "```\n",
    "\n",
    "We will define some weights associate to each edge.\n",
    "\n",
    "```python\n",
    "Wvector=[-0.5, 1, -0.1, -0.6]\n",
    "```\n",
    "</div>"
   ]
  },
  {
   "cell_type": "code",
   "execution_count": 2,
   "id": "9bd405c3-f2cf-4e17-8988-e5d771ae86ff",
   "metadata": {},
   "outputs": [],
   "source": [
    "Xvector=[0.8, -0.3, 1, -1]"
   ]
  },
  {
   "cell_type": "code",
   "execution_count": 3,
   "id": "2684806e-8e0b-4cb8-82ef-0542d559972e",
   "metadata": {},
   "outputs": [],
   "source": [
    "Wvector=[-0.5, 1, -0.4, 0.6]"
   ]
  },
  {
   "cell_type": "markdown",
   "id": "39166fb3-3056-4e7f-a7de-fdfaf4166697",
   "metadata": {},
   "source": [
    "This is an example for two inputs, and \n",
    "```python\n",
    "Xvector=[1,2]\n",
    "Wvector=[-0.503, -0.506]\n",
    "Xvector[0]*Wvector[0]+Xvector[1]*Wvector[1]\n",
    "-1.515\n",
    "```\n",
    "in terms of math\n",
    "\n",
    "\\begin{gather}\n",
    "[1,2][-0.503, -0.506]^T =& 1\\times (-0.503) + 2\\times (-0.506)\\nonumber\\\\\n",
    "=& -0.503 - 1.012\\nonumber\\\\\n",
    "=& -1.515\\nonumber\n",
    "\\end{gather}\n"
   ]
  },
  {
   "cell_type": "markdown",
   "id": "d648b777",
   "metadata": {},
   "source": [
    "<div id=\"about_dataset\">\n",
    "    <h3>Bias</h3>\n",
    "\n",
    "\n",
    "In neural networks, bias refers to:\n",
    "\n",
    "- Additive terms in each neuron's pre-activation function, shifting the decision boundary.\n",
    "\n",
    "- A learnable parameter ($b \\in \\mathcal{R}^n$) per layer, independent of input data.\n",
    "\n",
    "Mathematically, for a neuron with inputs $x$, weights $w$, and activation $f$:\n",
    "$$y=f(\\vec{w}^T\\vec{x}+b)$$\n",
    "\n",
    "where $b$ is the bias term.\n",
    "\n",
    "#### Role in Model Capacity\n",
    "\n",
    "Bias-Variance Tradeoff:\n",
    "\n",
    "- High bias -> Underfitting (oversimplified model).\n",
    "\n",
    "- Low bias -> Overfitting (model fits noise).\n",
    "\n",
    "Universal Approximation Theorem: Bias terms are essential for neural networks to approximate any continuous function (Cybenko, 1989).\n",
    "\n",
    "#### Cybenko Theorem\n",
    "\n",
    "\n",
    "Let $f: \\mathcal{R}^d \\to \\mathcal{R}$ be a function continuous on a compact set $K\\subset \\mathcal{R}^d$. Then for any \\epsilon>0$ there exists a neural network with a single hidden layer of the form\n",
    "\\begin{equation}\n",
    "\\phi(x) = \\sum_{i=1}^N \\sum_{j=1}^d w_i^{(1)} \\sigma(w_{ij}^{(0)}  x_j + b^{(0)}_i)+b^{(1)},\\nonumber \n",
    "% \\label{eqn:perceptron}\n",
    "\\end{equation}\n",
    "$\\theta = \\{w_{ij}^{(0)}, w_i^{(1)}, b^{(0)}_i, b^{(1)}\\}$,\n",
    "where $\\sigma:\\mathcal{R} \\to \\mathcal{R}$ is an activation function non-polynomial non-linear, such that\n",
    "\\begin{equation}\n",
    "\\sup_{x\\in K} |f(x) - \\phi(x)| < \\epsilon.\\nonumber\n",
    "\\end{equation}\n",
    "\n",
    "The parameter $N$ is known as the width."
   ]
  },
  {
   "cell_type": "code",
   "execution_count": 4,
   "id": "9160f4db-aec4-4259-b421-7a9573063493",
   "metadata": {},
   "outputs": [],
   "source": [
    "bias = 0.0"
   ]
  },
  {
   "cell_type": "code",
   "execution_count": 5,
   "id": "c4bce1d9-eace-4eb2-8181-70b13410e886",
   "metadata": {},
   "outputs": [
    {
     "name": "stdout",
     "output_type": "stream",
     "text": [
      "-1.7\n"
     ]
    }
   ],
   "source": [
    "output=np.dot(Wvector, Xvector)+bias\n",
    "print(output)"
   ]
  },
  {
   "cell_type": "markdown",
   "id": "e087b0c1-dd6a-4673-adeb-8fcf0d8e66cf",
   "metadata": {},
   "source": [
    "# References\n",
    "[1] https://www3.nd.edu/~busiforc/handouts/cryptography/letterfrequencies.html"
   ]
  }
 ],
 "metadata": {
  "kernelspec": {
   "display_name": "Py39",
   "language": "python",
   "name": "python3"
  },
  "language_info": {
   "codemirror_mode": {
    "name": "ipython",
    "version": 3
   },
   "file_extension": ".py",
   "mimetype": "text/x-python",
   "name": "python",
   "nbconvert_exporter": "python",
   "pygments_lexer": "ipython3",
   "version": "3.9.21"
  }
 },
 "nbformat": 4,
 "nbformat_minor": 5
}
