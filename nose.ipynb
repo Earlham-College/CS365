{
 "cells": [
  {
   "cell_type": "code",
   "execution_count": 11,
   "id": "7fd58136",
   "metadata": {},
   "outputs": [
    {
     "data": {
      "text/plain": [
       "-0.00014427671804501932"
      ]
     },
     "execution_count": 11,
     "metadata": {},
     "output_type": "execute_result"
    }
   ],
   "source": [
    "import math \n",
    "math.log2(0.9999)"
   ]
  },
  {
   "cell_type": "code",
   "execution_count": null,
   "id": "ce41b855",
   "metadata": {},
   "outputs": [],
   "source": []
  }
 ],
 "metadata": {
  "kernelspec": {
   "display_name": "Python 3.9",
   "language": "python",
   "name": "py39"
  },
  "language_info": {
   "codemirror_mode": {
    "name": "ipython",
    "version": 3
   },
   "file_extension": ".py",
   "mimetype": "text/x-python",
   "name": "python",
   "nbconvert_exporter": "python",
   "pygments_lexer": "ipython3",
   "version": "3.9.1"
  }
 },
 "nbformat": 4,
 "nbformat_minor": 5
}
