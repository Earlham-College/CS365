{
 "cells": [
  {
   "cell_type": "markdown",
   "id": "f7769549",
   "metadata": {},
   "source": [
    "# Decision Tree"
   ]
  },
  {
   "cell_type": "markdown",
   "id": "d06c7363",
   "metadata": {},
   "source": [
    " <figure>\n",
    "  <img src=\"https://images.datacamp.com/image/upload/v1677504957/decision_tree_for_heart_attack_prevention_2140bd762d.png\" alt=\"Trulli\" style=\"width:100%\">\n",
    "  <figcaption>Fig.1 - Trulli, Puglia, Italy. Source: [1]</figcaption>\n",
    "</figure> "
   ]
  },
  {
   "cell_type": "markdown",
   "id": "6cd56528",
   "metadata": {},
   "source": [
    "\\begin{equation}\n",
    "f = \\sum_i ma\n",
    "\\end{equation}"
   ]
  },
  {
   "cell_type": "markdown",
   "id": "2d3858a7",
   "metadata": {},
   "source": [
    "## Load libraries"
   ]
  },
  {
   "cell_type": "markdown",
   "id": "79b9a704",
   "metadata": {},
   "source": [
    "The following cell load ```pandas``` package to work with dataframe."
   ]
  },
  {
   "cell_type": "code",
   "execution_count": 1,
   "id": "fac5d5ee",
   "metadata": {},
   "outputs": [],
   "source": [
    "import pandas as pd"
   ]
  },
  {
   "cell_type": "code",
   "execution_count": null,
   "id": "c2b41fc3",
   "metadata": {},
   "outputs": [],
   "source": [
    "from sklearn.tree import DecisionTreeClassifier # Import Decision Tree Classifier\n",
    "from sklearn.model_selection import train_test_split # Import train_test_split function\n",
    "from sklearn import metrics #Import scikit-learn metrics module for accuracy calculation"
   ]
  },
  {
   "cell_type": "markdown",
   "id": "0d2d6da6",
   "metadata": {},
   "source": [
    "# References\n",
    "\n",
    "[1] https://www.datacamp.com/tutorial/decision-tree-classification-python?irclickid=WsLSXXSxTxyPT5X2fuzYJTvVUkHRz50-Cxc00U0&irgwc=1&utm_medium=affiliate&utm_source=impact&utm_campaign=000000_1-367971_2-mix_3-all_4-na_5-na_6-na_7-mp_8-affl-ip_9-na_10-bau_11-Shoplooks&utm_content=ONLINE_TRACKING_LINK&utm_term="
   ]
  },
  {
   "cell_type": "code",
   "execution_count": null,
   "id": "76f19f7c",
   "metadata": {},
   "outputs": [],
   "source": []
  }
 ],
 "metadata": {
  "kernelspec": {
   "display_name": "Python 3.9",
   "language": "python",
   "name": "py39"
  },
  "language_info": {
   "codemirror_mode": {
    "name": "ipython",
    "version": 3
   },
   "file_extension": ".py",
   "mimetype": "text/x-python",
   "name": "python",
   "nbconvert_exporter": "python",
   "pygments_lexer": "ipython3",
   "version": "3.9.1"
  }
 },
 "nbformat": 4,
 "nbformat_minor": 5
}
